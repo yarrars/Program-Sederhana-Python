{
 "cells": [
  {
   "cell_type": "markdown",
   "metadata": {},
   "source": [
    "# IF"
   ]
  },
  {
   "cell_type": "code",
   "execution_count": 1,
   "metadata": {},
   "outputs": [
    {
     "name": "stdout",
     "output_type": "stream",
     "text": [
      "--if berarti jika maka--\n",
      "Kamu Kompeten\n",
      "\n",
      "---Penggunaan IF---\n",
      "Tidak Sama\n"
     ]
    }
   ],
   "source": [
    "print(\"--if berarti jika maka--\")\n",
    "a=76\n",
    "if a >=75:\n",
    "    print(\"Kamu Kompeten\")\n",
    "else:\n",
    "    print(\"Kamu Belum Kompeten\")\n",
    "\n",
    "print(\"\\n---Penggunaan IF---\")\n",
    "n=10\n",
    "if n ==1:\n",
    "    print(\"Nilai Sama\")\n",
    "else:\n",
    "    print(\"Tidak Sama\")"
   ]
  },
  {
   "cell_type": "markdown",
   "metadata": {},
   "source": [
    "# IF ELSE"
   ]
  },
  {
   "cell_type": "code",
   "execution_count": 3,
   "metadata": {},
   "outputs": [
    {
     "name": "stdout",
     "output_type": "stream",
     "text": [
      "--Contoh 1, Kompeten dan Belum Kompeten--\n",
      "Kamu Belum Kompeten\n",
      "\n",
      "--Contoh 2, Benar Salah--\n",
      "Salah\n",
      "\n",
      "--Contoh 3, Ganjil Genap--\n",
      "Ganjil\n",
      "\n",
      "--Contoh 4, Negatif, Nol, dan Bulat--\n",
      "Positif\n",
      "Positif\n",
      "\n",
      "--Contoh 5, Libur dan Masuk--\n",
      "Libur\n"
     ]
    }
   ],
   "source": [
    "# print(\"---Selain itu/Lawan dari If---\")\n",
    "print(\"--Contoh 1, Kompeten dan Belum Kompeten--\")\n",
    "a=72\n",
    "if a>=75:\n",
    "    print(\"Kamu Kompeten\")\n",
    "else:\n",
    "    print(\"Kamu Belum Kompeten\")\n",
    "print()\n",
    "\n",
    "\n",
    "print(\"--Contoh 2, Benar Salah--\")\n",
    "b=0\n",
    "if b ==1:\n",
    "    print(\"Benar\")\n",
    "if b ==0:\n",
    "    print(\"Salah\")\n",
    "print()\n",
    "\n",
    "\n",
    "print(\"--Contoh 3, Ganjil Genap--\")\n",
    "c = 1\n",
    "if c%2 ==0:\n",
    "    print(\"Genap\")\n",
    "else:\n",
    "    print(\"Ganjil\")\n",
    "print()\n",
    "\n",
    "\n",
    "print(\"--Contoh 4, Negatif, Nol, dan Bulat--\")\n",
    "e = 3\n",
    "if e<0:\n",
    "    print(\"Negatif\")\n",
    "else:\n",
    "    print(\"Positif\")\n",
    "\n",
    "d = 100\n",
    "if d <0:\n",
    "    print(\"Negatif\")\n",
    "if d ==0:\n",
    "    print(\"Nol\")\n",
    "if d>0:\n",
    "    print(\"Positif\")\n",
    "print()\n",
    "\n",
    "\n",
    "print(\"--Contoh 5, Libur dan Masuk--\")\n",
    "hari = \"merah\"\n",
    "if hari == \"merah\":\n",
    "    print(\"Libur\")\n",
    "else:\n",
    "    print(\"Masuk\")"
   ]
  },
  {
   "cell_type": "markdown",
   "metadata": {},
   "source": [
    "\n",
    "# ELIF"
   ]
  },
  {
   "cell_type": "code",
   "execution_count": 4,
   "metadata": {},
   "outputs": [
    {
     "name": "stdout",
     "output_type": "stream",
     "text": [
      "--selain itu jika--\n",
      "--contoh 1, negatif, nol dan bulat menggunakan elif--\n",
      "Nol\n",
      "\n",
      "--Contoh 2, K, BK, Pas--\n",
      "Kompeten\n",
      "\n",
      "--Contoh 3, Nilai A, B, C, D\n",
      "A\n"
     ]
    }
   ],
   "source": [
    "print(\"--selain itu jika--\")\n",
    "\n",
    "print(\"--contoh 1, negatif, nol dan bulat menggunakan elif--\")\n",
    "\n",
    "d=0\n",
    "if d <0:\n",
    "    print(\"Negatif\")\n",
    "elif d >0:\n",
    "    print(\"Positif\")\n",
    "else:\n",
    "    print(\"Nol\")\n",
    "print()\n",
    "\n",
    "\n",
    "print(\"--Contoh 2, K, BK, Pas--\")\n",
    "nilai=75\n",
    "if nilai >=75:\n",
    "    print(\"Kompeten\")\n",
    "elif nilai <75:\n",
    "    print(\"Belum Kompeten\")\n",
    "else:\n",
    "    print(\"Pas\")\n",
    "print()\n",
    "\n",
    "\n",
    "print(\"--Contoh 3, Nilai A, B, C, D\")\n",
    "n = 100\n",
    "if n >=80: #80-100\n",
    "    print(\"A\")\n",
    "elif n >=75: #75-79\n",
    "    print(\"B\")\n",
    "elif n >=70: #70-74\n",
    "    print(\"C\")\n",
    "else: #<=69\n",
    "    print(\"D\")\n",
    "    "
   ]
  },
  {
   "cell_type": "markdown",
   "metadata": {},
   "source": [
    "# KOMENTAR"
   ]
  },
  {
   "cell_type": "code",
   "execution_count": 5,
   "metadata": {},
   "outputs": [
    {
     "name": "stdout",
     "output_type": "stream",
     "text": [
      "Selamat Datang\n",
      "Python\n"
     ]
    }
   ],
   "source": [
    "#Cetak Pada Python\n",
    "print(\"Selamat Datang\") #Cetak Selamat Datang\n",
    "#Tanda Pagar Menandakan Penggunaan Komentar Pada Python\n",
    "#Kita Bisa Membedakan Penggunaan Komentar Pada Setiap Bahasa Pemrograman\n",
    "\n",
    "\"\"\"Kutip 3 Juga Komentar\"\"\"\n",
    "\n",
    "print(\"Python\")"
   ]
  },
  {
   "cell_type": "markdown",
   "metadata": {},
   "source": [
    "# LOOPING"
   ]
  },
  {
   "cell_type": "code",
   "execution_count": 6,
   "metadata": {},
   "outputs": [
    {
     "name": "stdout",
     "output_type": "stream",
     "text": [
      "-----FOR------\n",
      "1\n",
      "2\n",
      "3\n",
      "-----While-----\n",
      "1\n",
      "2\n",
      "3\n",
      "4\n",
      "5\n",
      "6\n",
      "7\n",
      "8\n",
      "9\n"
     ]
    }
   ],
   "source": [
    "print(\"-----FOR------\")\n",
    "\n",
    "for a in[1,2,3]:\n",
    "    print(a)\n",
    "\n",
    "print(\"-----While-----\")\n",
    "b = 1\n",
    "while b <10:\n",
    "    print(b)\n",
    "    b+=1\n",
    "    "
   ]
  },
  {
   "cell_type": "markdown",
   "metadata": {},
   "source": [
    "# NILAI"
   ]
  },
  {
   "cell_type": "code",
   "execution_count": 7,
   "metadata": {},
   "outputs": [
    {
     "name": "stdout",
     "output_type": "stream",
     "text": [
      "--Contoh 3, Nilai A, B, C, D--\n",
      "A\n"
     ]
    }
   ],
   "source": [
    "print(\"--Contoh 3, Nilai A, B, C, D--\")\n",
    "n==55\n",
    "if n > 80: #80-100\n",
    "    print(\"A\")\n",
    "elif n >= 75: #75-79\n",
    "    print(\"B\")\n",
    "elif n >=70: #70-74\n",
    "    print(\"C\")\n",
    "else: #<=69\n",
    "    print(\"D\")"
   ]
  },
  {
   "cell_type": "markdown",
   "metadata": {},
   "source": [
    "# NILAI 2"
   ]
  },
  {
   "cell_type": "code",
   "execution_count": 8,
   "metadata": {},
   "outputs": [
    {
     "name": "stdout",
     "output_type": "stream",
     "text": [
      "Masukan Nilai: 89\n",
      "A\n"
     ]
    }
   ],
   "source": [
    "nil = int(input(\"Masukan Nilai: \"))\n",
    "if nil >=80:\n",
    "    print(\"A\")\n",
    "else:\n",
    "    print(\"B\")"
   ]
  },
  {
   "cell_type": "markdown",
   "metadata": {},
   "source": [
    "# OPERATOR\n"
   ]
  },
  {
   "cell_type": "code",
   "execution_count": 9,
   "metadata": {},
   "outputs": [
    {
     "name": "stdout",
     "output_type": "stream",
     "text": [
      "--Operator Aritmatika\n",
      "Tambah  (+) 12\n",
      "Kurang  (-) 13\n",
      "Kali    (*) 24\n",
      "Pangkat (**) 4\n",
      "Bagi    (/) 1.6\n",
      "Mod     (%) 0\n",
      "\n",
      "--Operator Pembanding\n",
      "Sama Dengan             (==)\n",
      "Lebih Besar             (>)\n",
      "Lebih Kecil             (<)\n",
      "Lebih Besar Sama Dengan (>=)\n",
      "Lebih Kecil Sama Dengan (<=)\n",
      "Tidak Sama Dengan       (!=)\n",
      "\n",
      "--Operator Logika\n",
      "Not (not = Bukan)\n",
      "And (and = Semua Kondisi Terpenuhi)\n",
      "Or  (or  = Salah Satu Kondisi Terpenuhi)\n"
     ]
    }
   ],
   "source": [
    "print(\"--Operator Aritmatika\")\n",
    "print(\"Tambah  (+)\", 10+2)\n",
    "print(\"Kurang  (-)\", 14-1)\n",
    "print(\"Kali    (*)\", 12*2)\n",
    "print(\"Pangkat (**)\", 2**2)\n",
    "print(\"Bagi    (/)\", 8/5)\n",
    "print(\"Mod     (%)\", 6%2)\n",
    "print()\n",
    "\n",
    "print(\"--Operator Pembanding\")\n",
    "print(\"Sama Dengan             (==)\")\n",
    "print(\"Lebih Besar             (>)\")\n",
    "print(\"Lebih Kecil             (<)\")\n",
    "print(\"Lebih Besar Sama Dengan (>=)\")\n",
    "print(\"Lebih Kecil Sama Dengan (<=)\")\n",
    "print(\"Tidak Sama Dengan       (!=)\")\n",
    "print()\n",
    "\n",
    "print(\"--Operator Logika\")\n",
    "print(\"Not (not = Bukan)\")\n",
    "print(\"And (and = Semua Kondisi Terpenuhi)\")\n",
    "print(\"Or  (or  = Salah Satu Kondisi Terpenuhi)\")"
   ]
  },
  {
   "cell_type": "markdown",
   "metadata": {},
   "source": [
    "# PRINT"
   ]
  },
  {
   "cell_type": "code",
   "execution_count": 10,
   "metadata": {},
   "outputs": [
    {
     "name": "stdout",
     "output_type": "stream",
     "text": [
      "Selamat Datang\n",
      "Belajar Bahasa Pemrograman Python\n",
      "Hello World!\n"
     ]
    }
   ],
   "source": [
    "print (\"Selamat Datang\")\n",
    "print (\"Belajar Bahasa Pemrograman Python\")\n",
    "\n",
    "print (\"Hello World!\")"
   ]
  },
  {
   "cell_type": "markdown",
   "metadata": {},
   "source": [
    "# PRINT 2"
   ]
  },
  {
   "cell_type": "code",
   "execution_count": 11,
   "metadata": {},
   "outputs": [
    {
     "name": "stdout",
     "output_type": "stream",
     "text": [
      "Selamat Datang\n",
      "Selamat Datang\n",
      "Selamat Datang\n",
      "Selamat Datang\n",
      "Selamat Datang\n",
      "Selamat Datang\n",
      "Selamat Datang\n",
      "Selamat Datang\n"
     ]
    }
   ],
   "source": [
    "print('Selamat Datang')\n",
    "print(\"Selamat Datang\")\n",
    "print('Selamat Datang')\n",
    "print(\"Selamat Datang\")\n",
    "print('Selamat Datang')\n",
    "print(\"Selamat Datang\")\n",
    "print('Selamat Datang')\n",
    "print(\"Selamat Datang\")"
   ]
  },
  {
   "cell_type": "markdown",
   "metadata": {},
   "source": [
    "# TIPE DATA"
   ]
  },
  {
   "cell_type": "code",
   "execution_count": 12,
   "metadata": {},
   "outputs": [
    {
     "name": "stdout",
     "output_type": "stream",
     "text": [
      "Selamat Datang di SMK Wikrama 2 Bogor\n",
      "Hasil dari 1 + 2 =  3\n"
     ]
    }
   ],
   "source": [
    "#BELAJAR PYTHON\n",
    "\"\"\"Belajar Python\"\"\"\n",
    "\n",
    "a = 1\n",
    "b = 2\n",
    "c = \"Selamat Datang di\"\n",
    "d = \"SMK Wikrama\"\n",
    "e = \"Bogor\"\n",
    "\n",
    "#Selamat Datang di SMK Wikrama Bogor\n",
    "print(c, d, b, e)\n",
    "\n",
    "#Hasil dari 1+2=3\n",
    "print(\"Hasil dari %d + %d = \" %(a, b), a+b)"
   ]
  },
  {
   "cell_type": "markdown",
   "metadata": {},
   "source": [
    "# VARIABEL"
   ]
  },
  {
   "cell_type": "code",
   "execution_count": 13,
   "metadata": {},
   "outputs": [
    {
     "name": "stdout",
     "output_type": "stream",
     "text": [
      "9\n",
      "14\n",
      "5\n",
      "3.5\n",
      "1\n",
      "49\n"
     ]
    }
   ],
   "source": [
    "#OPERATOR ARITMATIKA\n",
    "a = 7\n",
    "b = 2\n",
    "print(a+b) #Hasilnya 9\n",
    "print(a*b) #Hasilnya 14\n",
    "print(a-b) #Hasilnya 5\n",
    "print(a/b) #Hasilnya 3.5\n",
    "print(a%b) #Hasilnya 1\n",
    "print(a**b) #Hasilnya 49"
   ]
  },
  {
   "cell_type": "markdown",
   "metadata": {},
   "source": [
    "# BANGUN DATAR DAN BANGUN RUANG"
   ]
  },
  {
   "cell_type": "markdown",
   "metadata": {},
   "source": [
    "# BANGUN DATAR"
   ]
  },
  {
   "cell_type": "markdown",
   "metadata": {},
   "source": [
    "## BELAH KETUPAT"
   ]
  },
  {
   "cell_type": "code",
   "execution_count": 14,
   "metadata": {},
   "outputs": [
    {
     "name": "stdout",
     "output_type": "stream",
     "text": [
      "Diameter 1: 2\n",
      "Diameter 2: 4\n",
      "Sisi      : 12\n",
      "Luas     : 4.0\n",
      "Keliling : 48\n"
     ]
    }
   ],
   "source": [
    "d1 = int(input(\"Diameter 1: \"))\n",
    "d2 = int(input(\"Diameter 2: \"))\n",
    "sisi = int(input(\"Sisi      : \"))\n",
    "\n",
    "luas = (d1*d2) / 2\n",
    "keliling = sisi * 4\n",
    "\n",
    "print(\"Luas     :\", luas)\n",
    "print(\"Keliling :\", keliling)"
   ]
  },
  {
   "cell_type": "markdown",
   "metadata": {},
   "source": [
    "## DUA BILANGAN"
   ]
  },
  {
   "cell_type": "code",
   "execution_count": 15,
   "metadata": {},
   "outputs": [
    {
     "name": "stdout",
     "output_type": "stream",
     "text": [
      "Masukan Angka Pertama: 20\n",
      "Masukan Angka Kedua  : 10\n",
      "Jumlah 20+10 adalah 30.0\n"
     ]
    }
   ],
   "source": [
    "bil1 = int(input(\"Masukan Angka Pertama: \"))\n",
    "bil2 = int(input(\"Masukan Angka Kedua  : \"))\n",
    "\n",
    "jumlah = float(bil1) + float(bil2)\n",
    "\n",
    "print(\"Jumlah {0}+{1} adalah {2}\" .format(bil1, bil2, jumlah))"
   ]
  },
  {
   "cell_type": "markdown",
   "metadata": {},
   "source": [
    "## JAJAR GENJANG"
   ]
  },
  {
   "cell_type": "code",
   "execution_count": 16,
   "metadata": {},
   "outputs": [
    {
     "name": "stdout",
     "output_type": "stream",
     "text": [
      "Panjang : 12\n",
      "Lebar   : 14\n",
      "Tinggi  : 15\n",
      "Luas     = 210\n",
      "Keliling = 52\n"
     ]
    }
   ],
   "source": [
    "\n",
    "panjang = int(input(\"Panjang : \"))\n",
    "lebar = int(input(\"Lebar   : \"))\n",
    "tinggi = int(input(\"Tinggi  : \"))\n",
    "\n",
    "luas = lebar * tinggi\n",
    "keliling = (2*panjang) + (2*lebar)\n",
    "\n",
    "print(\"Luas     =\", luas)\n",
    "print(\"Keliling =\", keliling)"
   ]
  },
  {
   "cell_type": "markdown",
   "metadata": {},
   "source": [
    "## LAYANG - LAYANG"
   ]
  },
  {
   "cell_type": "code",
   "execution_count": 17,
   "metadata": {},
   "outputs": [
    {
     "name": "stdout",
     "output_type": "stream",
     "text": [
      "Panjang    : 12\n",
      "Lebar      : 14\n",
      "Diameter 1 : 15\n",
      "Diameter 2 : 13\n",
      "Luas       =  97.5\n",
      "Keliling   =  52\n"
     ]
    }
   ],
   "source": [
    "\n",
    "panjang = int(input(\"Panjang    : \"))\n",
    "lebar = int(input(\"Lebar      : \"))\n",
    "d1 = int(input(\"Diameter 1 : \"))\n",
    "d2 = int(input(\"Diameter 2 : \"))\n",
    "\n",
    "luas = (d1*d2) / 2\n",
    "keliling = (2*panjang) + (2*lebar)\n",
    "\n",
    "print(\"Luas       = \", luas)\n",
    "print(\"Keliling   = \", keliling)"
   ]
  },
  {
   "cell_type": "markdown",
   "metadata": {},
   "source": [
    "## LINGKARAN\n"
   ]
  },
  {
   "cell_type": "code",
   "execution_count": 18,
   "metadata": {},
   "outputs": [
    {
     "name": "stdout",
     "output_type": "stream",
     "text": [
      "Jari-Jari : 10\n",
      "Diameter  : 20\n",
      "Luas      = 985.9600000000002\n",
      "Keliling  = 62.800000000000004\n"
     ]
    }
   ],
   "source": [
    "jariJari = int(input(\"Jari-Jari : \"))\n",
    "diameter = int(input(\"Diameter  : \"))\n",
    "\n",
    "print(\"Luas      =\", (3.14*jariJari)**2)\n",
    "print(\"Keliling  =\", 2*3.14*jariJari)"
   ]
  },
  {
   "cell_type": "markdown",
   "metadata": {},
   "source": [
    "## PERSEGI"
   ]
  },
  {
   "cell_type": "code",
   "execution_count": 19,
   "metadata": {},
   "outputs": [
    {
     "name": "stdout",
     "output_type": "stream",
     "text": [
      "Masukan Sisi : 10\n",
      "Luas         = 100\n",
      "Keliling     = 40\n"
     ]
    }
   ],
   "source": [
    "sisi = int(input(\"Masukan Sisi : \"))\n",
    "\n",
    "luas = sisi * sisi\n",
    "keliling = sisi * 4\n",
    "\n",
    "print(\"Luas         =\", luas)\n",
    "print(\"Keliling     =\", keliling)"
   ]
  },
  {
   "cell_type": "markdown",
   "metadata": {},
   "source": [
    "## PERSEGI PANJANG\n"
   ]
  },
  {
   "cell_type": "code",
   "execution_count": 20,
   "metadata": {},
   "outputs": [
    {
     "name": "stdout",
     "output_type": "stream",
     "text": [
      "Panjang  : 20\n",
      "Lebar    : 20\n",
      "Luas     = 400\n",
      "Keliling = 80\n"
     ]
    }
   ],
   "source": [
    "\n",
    "panjang = int(input(\"Panjang  : \"))\n",
    "lebar = int(input(\"Lebar    : \"))\n",
    "\n",
    "luas = panjang * lebar\n",
    "keliling = (2*panjang) + (2*lebar)\n",
    "\n",
    "print(\"Luas     =\", luas)\n",
    "print(\"Keliling =\", keliling)"
   ]
  },
  {
   "cell_type": "markdown",
   "metadata": {},
   "source": [
    "## SEGITIGA"
   ]
  },
  {
   "cell_type": "code",
   "execution_count": 21,
   "metadata": {},
   "outputs": [
    {
     "name": "stdout",
     "output_type": "stream",
     "text": [
      "Alas   : 20\n",
      "Tinggi : 10\n",
      "Lebar  : 20\n",
      "Luas Segitiga Adalah     :  100.0\n",
      "Keliling Segitiga Adalah :  50\n"
     ]
    }
   ],
   "source": [
    "alas = int(input(\"Alas   : \"))\n",
    "tinggi = int(input(\"Tinggi : \"))\n",
    "lebar = int(input(\"Lebar  : \"))\n",
    "\n",
    "keliling = alas+tinggi+lebar\n",
    "luas = (alas*tinggi)/2\n",
    "\n",
    "print(\"Luas Segitiga Adalah     : \", luas)\n",
    "print(\"Keliling Segitiga Adalah : \", keliling)"
   ]
  },
  {
   "cell_type": "markdown",
   "metadata": {},
   "source": [
    "## TRAPESIUM"
   ]
  },
  {
   "cell_type": "code",
   "execution_count": 22,
   "metadata": {},
   "outputs": [
    {
     "name": "stdout",
     "output_type": "stream",
     "text": [
      "Sisi 1   : 10\n",
      "Sisi 2   : 10\n",
      "Sisi 3   : 10\n",
      "Tinggi   : 20\n",
      "Luas     =  200.0\n",
      "Keliling = 50\n"
     ]
    }
   ],
   "source": [
    "sisi1 = int(input(\"Sisi 1   : \"))\n",
    "sisi2 = int(input(\"Sisi 2   : \"))\n",
    "sisi3 = int(input(\"Sisi 3   : \"))\n",
    "tinggi = int(input(\"Tinggi   : \"))\n",
    "\n",
    "luas = (sisi1+sisi2) * tinggi / 2\n",
    "keliling = sisi1+sisi2+sisi3+tinggi\n",
    "\n",
    "print(\"Luas     = \", luas)\n",
    "print(\"Keliling =\", keliling)"
   ]
  },
  {
   "cell_type": "markdown",
   "metadata": {},
   "source": [
    "## BANGUN RUANG"
   ]
  },
  {
   "cell_type": "markdown",
   "metadata": {},
   "source": [
    "## BALOK"
   ]
  },
  {
   "cell_type": "code",
   "execution_count": 23,
   "metadata": {},
   "outputs": [
    {
     "name": "stdout",
     "output_type": "stream",
     "text": [
      "Panjang : 10\n",
      "Lebar   : 10\n",
      "Tinggi  : 20\n",
      "Luas    = 1000\n",
      "Volume  = 2000\n"
     ]
    }
   ],
   "source": [
    "panjang = int(input(\"Panjang : \"))\n",
    "lebar = int(input(\"Lebar   : \"))\n",
    "tinggi = int(input(\"Tinggi  : \"))\n",
    "\n",
    "luas = 2 * (panjang*lebar + panjang*tinggi + lebar*tinggi)\n",
    "volume = panjang * lebar * tinggi\n",
    "\n",
    "print(\"Luas    =\", luas)\n",
    "print(\"Volume  =\", volume)"
   ]
  },
  {
   "cell_type": "markdown",
   "metadata": {},
   "source": [
    "## KUBUS "
   ]
  },
  {
   "cell_type": "code",
   "execution_count": 24,
   "metadata": {},
   "outputs": [
    {
     "name": "stdout",
     "output_type": "stream",
     "text": [
      "Rusuk  : 5\n",
      "Luas   = 150\n",
      "Volume = 125\n"
     ]
    }
   ],
   "source": [
    "rusuk = int(input(\"Rusuk  : \"))\n",
    "\n",
    "print(\"Luas   =\", 6 * (rusuk**2))\n",
    "print(\"Volume =\", rusuk * rusuk * rusuk)"
   ]
  },
  {
   "cell_type": "code",
   "execution_count": null,
   "metadata": {},
   "outputs": [],
   "source": []
  }
 ],
 "metadata": {
  "kernelspec": {
   "display_name": "Python 3",
   "language": "python",
   "name": "python3"
  },
  "language_info": {
   "codemirror_mode": {
    "name": "ipython",
    "version": 3
   },
   "file_extension": ".py",
   "mimetype": "text/x-python",
   "name": "python",
   "nbconvert_exporter": "python",
   "pygments_lexer": "ipython3",
   "version": "3.7.1"
  }
 },
 "nbformat": 4,
 "nbformat_minor": 2
}
